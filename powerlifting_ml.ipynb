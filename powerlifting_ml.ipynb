{
 "cells": [
  {
   "cell_type": "markdown",
   "metadata": {},
   "source": [
    "# Kalkulator wyciskania na ławce podczas zarejestrowanych zawodów w trójboju siłowym"
   ]
  },
  {
   "cell_type": "markdown",
   "metadata": {},
   "source": [
    "## 1 Import bibliotek i pobranie ramki danych\n",
    "Import niezbędnych bibliotek:\n",
    "- pandas w celu wczytania ramki danych oraz operacji na niej \n",
    "- scipy z której zostaną pobrane przeprowadzone testy statystyczne"
   ]
  },
  {
   "cell_type": "code",
   "execution_count": 730,
   "metadata": {},
   "outputs": [],
   "source": [
    "import pandas as pd\n",
    "import numpy as np\n",
    "import statsmodels.api as sm\n",
    "import matplotlib.pyplot as plt\n",
    "import seaborn as sns\n",
    "\n",
    "from scipy import stats\n"
   ]
  },
  {
   "cell_type": "markdown",
   "metadata": {},
   "source": [
    "Pobranie danych ze strony https://www.openpowerlifting.org/ dnia 22.12.2023 <br>\n",
    "Dane dotyczą wyników dotyczących trójboju siłowego, zawodów ogranozowanych w tym sporcie, a strona zbiera wyniki z zawodów organizowanych przez większość większych organizacji na świecie"
   ]
  },
  {
   "cell_type": "code",
   "execution_count": 731,
   "metadata": {},
   "outputs": [
    {
     "name": "stderr",
     "output_type": "stream",
     "text": [
      "C:\\Users\\Szymon\\AppData\\Local\\Temp\\ipykernel_10376\\727205944.py:1: DtypeWarning: Columns (33,35,38) have mixed types. Specify dtype option on import or set low_memory=False.\n",
      "  df = pd.read_csv('wunsz.csv')\n"
     ]
    }
   ],
   "source": [
    "df = pd.read_csv('Powerlifting.csv')"
   ]
  },
  {
   "cell_type": "markdown",
   "metadata": {},
   "source": [
    "## 2 Edacja danych w celu przystosowania ich do modelu"
   ]
  },
  {
   "cell_type": "code",
   "execution_count": 732,
   "metadata": {},
   "outputs": [
    {
     "data": {
      "text/html": [
       "<div>\n",
       "<style scoped>\n",
       "    .dataframe tbody tr th:only-of-type {\n",
       "        vertical-align: middle;\n",
       "    }\n",
       "\n",
       "    .dataframe tbody tr th {\n",
       "        vertical-align: top;\n",
       "    }\n",
       "\n",
       "    .dataframe thead th {\n",
       "        text-align: right;\n",
       "    }\n",
       "</style>\n",
       "<table border=\"1\" class=\"dataframe\">\n",
       "  <thead>\n",
       "    <tr style=\"text-align: right;\">\n",
       "      <th></th>\n",
       "      <th>Name</th>\n",
       "      <th>Sex</th>\n",
       "      <th>Event</th>\n",
       "      <th>Equipment</th>\n",
       "      <th>Age</th>\n",
       "      <th>AgeClass</th>\n",
       "      <th>BirthYearClass</th>\n",
       "      <th>Division</th>\n",
       "      <th>BodyweightKg</th>\n",
       "      <th>WeightClassKg</th>\n",
       "      <th>...</th>\n",
       "      <th>Tested</th>\n",
       "      <th>Country</th>\n",
       "      <th>State</th>\n",
       "      <th>Federation</th>\n",
       "      <th>ParentFederation</th>\n",
       "      <th>Date</th>\n",
       "      <th>MeetCountry</th>\n",
       "      <th>MeetState</th>\n",
       "      <th>MeetTown</th>\n",
       "      <th>MeetName</th>\n",
       "    </tr>\n",
       "  </thead>\n",
       "  <tbody>\n",
       "    <tr>\n",
       "      <th>0</th>\n",
       "      <td>Alona Vladi</td>\n",
       "      <td>F</td>\n",
       "      <td>SBD</td>\n",
       "      <td>Raw</td>\n",
       "      <td>33.0</td>\n",
       "      <td>24-34</td>\n",
       "      <td>24-39</td>\n",
       "      <td>O</td>\n",
       "      <td>58.30</td>\n",
       "      <td>60</td>\n",
       "      <td>...</td>\n",
       "      <td>Yes</td>\n",
       "      <td>Russia</td>\n",
       "      <td>NaN</td>\n",
       "      <td>GFP</td>\n",
       "      <td>NaN</td>\n",
       "      <td>2019-05-11</td>\n",
       "      <td>Russia</td>\n",
       "      <td>NaN</td>\n",
       "      <td>Bryansk</td>\n",
       "      <td>Open Tournament</td>\n",
       "    </tr>\n",
       "    <tr>\n",
       "      <th>1</th>\n",
       "      <td>Galina Solovyanova</td>\n",
       "      <td>F</td>\n",
       "      <td>SBD</td>\n",
       "      <td>Raw</td>\n",
       "      <td>43.0</td>\n",
       "      <td>40-44</td>\n",
       "      <td>40-49</td>\n",
       "      <td>M1</td>\n",
       "      <td>73.10</td>\n",
       "      <td>75</td>\n",
       "      <td>...</td>\n",
       "      <td>Yes</td>\n",
       "      <td>Russia</td>\n",
       "      <td>NaN</td>\n",
       "      <td>GFP</td>\n",
       "      <td>NaN</td>\n",
       "      <td>2019-05-11</td>\n",
       "      <td>Russia</td>\n",
       "      <td>NaN</td>\n",
       "      <td>Bryansk</td>\n",
       "      <td>Open Tournament</td>\n",
       "    </tr>\n",
       "    <tr>\n",
       "      <th>2</th>\n",
       "      <td>Daniil Voronin</td>\n",
       "      <td>M</td>\n",
       "      <td>SBD</td>\n",
       "      <td>Raw</td>\n",
       "      <td>15.5</td>\n",
       "      <td>16-17</td>\n",
       "      <td>14-18</td>\n",
       "      <td>T</td>\n",
       "      <td>67.40</td>\n",
       "      <td>75</td>\n",
       "      <td>...</td>\n",
       "      <td>Yes</td>\n",
       "      <td>Russia</td>\n",
       "      <td>NaN</td>\n",
       "      <td>GFP</td>\n",
       "      <td>NaN</td>\n",
       "      <td>2019-05-11</td>\n",
       "      <td>Russia</td>\n",
       "      <td>NaN</td>\n",
       "      <td>Bryansk</td>\n",
       "      <td>Open Tournament</td>\n",
       "    </tr>\n",
       "    <tr>\n",
       "      <th>3</th>\n",
       "      <td>Aleksey Krasov</td>\n",
       "      <td>M</td>\n",
       "      <td>SBD</td>\n",
       "      <td>Raw</td>\n",
       "      <td>35.0</td>\n",
       "      <td>35-39</td>\n",
       "      <td>24-39</td>\n",
       "      <td>O</td>\n",
       "      <td>66.65</td>\n",
       "      <td>75</td>\n",
       "      <td>...</td>\n",
       "      <td>Yes</td>\n",
       "      <td>Russia</td>\n",
       "      <td>NaN</td>\n",
       "      <td>GFP</td>\n",
       "      <td>NaN</td>\n",
       "      <td>2019-05-11</td>\n",
       "      <td>Russia</td>\n",
       "      <td>NaN</td>\n",
       "      <td>Bryansk</td>\n",
       "      <td>Open Tournament</td>\n",
       "    </tr>\n",
       "    <tr>\n",
       "      <th>4</th>\n",
       "      <td>Margarita Pleschenkova</td>\n",
       "      <td>M</td>\n",
       "      <td>SBD</td>\n",
       "      <td>Raw</td>\n",
       "      <td>26.5</td>\n",
       "      <td>24-34</td>\n",
       "      <td>24-39</td>\n",
       "      <td>O</td>\n",
       "      <td>72.45</td>\n",
       "      <td>75</td>\n",
       "      <td>...</td>\n",
       "      <td>Yes</td>\n",
       "      <td>Russia</td>\n",
       "      <td>NaN</td>\n",
       "      <td>GFP</td>\n",
       "      <td>NaN</td>\n",
       "      <td>2019-05-11</td>\n",
       "      <td>Russia</td>\n",
       "      <td>NaN</td>\n",
       "      <td>Bryansk</td>\n",
       "      <td>Open Tournament</td>\n",
       "    </tr>\n",
       "  </tbody>\n",
       "</table>\n",
       "<p>5 rows × 41 columns</p>\n",
       "</div>"
      ],
      "text/plain": [
       "                     Name Sex Event Equipment   Age AgeClass BirthYearClass  \\\n",
       "0             Alona Vladi   F   SBD       Raw  33.0    24-34          24-39   \n",
       "1      Galina Solovyanova   F   SBD       Raw  43.0    40-44          40-49   \n",
       "2          Daniil Voronin   M   SBD       Raw  15.5    16-17          14-18   \n",
       "3          Aleksey Krasov   M   SBD       Raw  35.0    35-39          24-39   \n",
       "4  Margarita Pleschenkova   M   SBD       Raw  26.5    24-34          24-39   \n",
       "\n",
       "  Division  BodyweightKg WeightClassKg  ...  Tested  Country  State  \\\n",
       "0        O         58.30            60  ...     Yes   Russia    NaN   \n",
       "1       M1         73.10            75  ...     Yes   Russia    NaN   \n",
       "2        T         67.40            75  ...     Yes   Russia    NaN   \n",
       "3        O         66.65            75  ...     Yes   Russia    NaN   \n",
       "4        O         72.45            75  ...     Yes   Russia    NaN   \n",
       "\n",
       "   Federation  ParentFederation        Date  MeetCountry  MeetState  MeetTown  \\\n",
       "0         GFP               NaN  2019-05-11       Russia        NaN   Bryansk   \n",
       "1         GFP               NaN  2019-05-11       Russia        NaN   Bryansk   \n",
       "2         GFP               NaN  2019-05-11       Russia        NaN   Bryansk   \n",
       "3         GFP               NaN  2019-05-11       Russia        NaN   Bryansk   \n",
       "4         GFP               NaN  2019-05-11       Russia        NaN   Bryansk   \n",
       "\n",
       "          MeetName  \n",
       "0  Open Tournament  \n",
       "1  Open Tournament  \n",
       "2  Open Tournament  \n",
       "3  Open Tournament  \n",
       "4  Open Tournament  \n",
       "\n",
       "[5 rows x 41 columns]"
      ]
     },
     "execution_count": 732,
     "metadata": {},
     "output_type": "execute_result"
    }
   ],
   "source": [
    "df.head()"
   ]
  },
  {
   "cell_type": "code",
   "execution_count": 733,
   "metadata": {},
   "outputs": [
    {
     "data": {
      "text/html": [
       "<div>\n",
       "<style scoped>\n",
       "    .dataframe tbody tr th:only-of-type {\n",
       "        vertical-align: middle;\n",
       "    }\n",
       "\n",
       "    .dataframe tbody tr th {\n",
       "        vertical-align: top;\n",
       "    }\n",
       "\n",
       "    .dataframe thead th {\n",
       "        text-align: right;\n",
       "    }\n",
       "</style>\n",
       "<table border=\"1\" class=\"dataframe\">\n",
       "  <thead>\n",
       "    <tr style=\"text-align: right;\">\n",
       "      <th></th>\n",
       "      <th>Age</th>\n",
       "      <th>BodyweightKg</th>\n",
       "      <th>Squat1Kg</th>\n",
       "      <th>Squat2Kg</th>\n",
       "      <th>Squat3Kg</th>\n",
       "      <th>Squat4Kg</th>\n",
       "      <th>Best3SquatKg</th>\n",
       "      <th>Bench1Kg</th>\n",
       "      <th>Bench2Kg</th>\n",
       "      <th>Bench3Kg</th>\n",
       "      <th>...</th>\n",
       "      <th>Deadlift1Kg</th>\n",
       "      <th>Deadlift2Kg</th>\n",
       "      <th>Deadlift3Kg</th>\n",
       "      <th>Deadlift4Kg</th>\n",
       "      <th>Best3DeadliftKg</th>\n",
       "      <th>TotalKg</th>\n",
       "      <th>Dots</th>\n",
       "      <th>Wilks</th>\n",
       "      <th>Glossbrenner</th>\n",
       "      <th>Goodlift</th>\n",
       "    </tr>\n",
       "  </thead>\n",
       "  <tbody>\n",
       "    <tr>\n",
       "      <th>count</th>\n",
       "      <td>1.961325e+06</td>\n",
       "      <td>2.991949e+06</td>\n",
       "      <td>896686.000000</td>\n",
       "      <td>887493.000000</td>\n",
       "      <td>863733.000000</td>\n",
       "      <td>8437.000000</td>\n",
       "      <td>2.024312e+06</td>\n",
       "      <td>1.380328e+06</td>\n",
       "      <td>1.364791e+06</td>\n",
       "      <td>1.322626e+06</td>\n",
       "      <td>...</td>\n",
       "      <td>1.012203e+06</td>\n",
       "      <td>994618.000000</td>\n",
       "      <td>954242.000000</td>\n",
       "      <td>22901.000000</td>\n",
       "      <td>2.195983e+06</td>\n",
       "      <td>2.828341e+06</td>\n",
       "      <td>2.803444e+06</td>\n",
       "      <td>2.803444e+06</td>\n",
       "      <td>2.803444e+06</td>\n",
       "      <td>2.555446e+06</td>\n",
       "    </tr>\n",
       "    <tr>\n",
       "      <th>mean</th>\n",
       "      <td>3.077018e+01</td>\n",
       "      <td>8.417019e+01</td>\n",
       "      <td>115.299809</td>\n",
       "      <td>99.409698</td>\n",
       "      <td>40.917137</td>\n",
       "      <td>76.708478</td>\n",
       "      <td>1.744553e+02</td>\n",
       "      <td>8.364751e+01</td>\n",
       "      <td>5.752940e+01</td>\n",
       "      <td>-1.475474e+01</td>\n",
       "      <td>...</td>\n",
       "      <td>1.599116e+02</td>\n",
       "      <td>134.095018</td>\n",
       "      <td>23.761011</td>\n",
       "      <td>80.495881</td>\n",
       "      <td>1.900779e+02</td>\n",
       "      <td>3.782585e+02</td>\n",
       "      <td>2.753803e+02</td>\n",
       "      <td>2.742879e+02</td>\n",
       "      <td>2.584410e+02</td>\n",
       "      <td>6.452862e+01</td>\n",
       "    </tr>\n",
       "    <tr>\n",
       "      <th>std</th>\n",
       "      <td>1.321295e+01</td>\n",
       "      <td>2.263327e+01</td>\n",
       "      <td>136.531214</td>\n",
       "      <td>160.524582</td>\n",
       "      <td>190.444937</td>\n",
       "      <td>179.811958</td>\n",
       "      <td>6.840240e+01</td>\n",
       "      <td>9.805345e+01</td>\n",
       "      <td>1.228357e+02</td>\n",
       "      <td>1.386443e+02</td>\n",
       "      <td>...</td>\n",
       "      <td>1.073724e+02</td>\n",
       "      <td>155.065803</td>\n",
       "      <td>210.919199</td>\n",
       "      <td>186.054084</td>\n",
       "      <td>6.203827e+01</td>\n",
       "      <td>2.055426e+02</td>\n",
       "      <td>1.291905e+02</td>\n",
       "      <td>1.286415e+02</td>\n",
       "      <td>1.222949e+02</td>\n",
       "      <td>1.628731e+01</td>\n",
       "    </tr>\n",
       "    <tr>\n",
       "      <th>min</th>\n",
       "      <td>0.000000e+00</td>\n",
       "      <td>1.000000e+01</td>\n",
       "      <td>-555.000000</td>\n",
       "      <td>-580.000000</td>\n",
       "      <td>-600.500000</td>\n",
       "      <td>-550.000000</td>\n",
       "      <td>-5.080200e+02</td>\n",
       "      <td>-6.355000e+02</td>\n",
       "      <td>-6.355000e+02</td>\n",
       "      <td>-5.750000e+02</td>\n",
       "      <td>...</td>\n",
       "      <td>-5.000000e+02</td>\n",
       "      <td>-502.500000</td>\n",
       "      <td>-587.500000</td>\n",
       "      <td>-500.000000</td>\n",
       "      <td>-4.100000e+02</td>\n",
       "      <td>1.000000e+00</td>\n",
       "      <td>6.800000e-01</td>\n",
       "      <td>6.700000e-01</td>\n",
       "      <td>6.400000e-01</td>\n",
       "      <td>5.000000e-01</td>\n",
       "    </tr>\n",
       "    <tr>\n",
       "      <th>25%</th>\n",
       "      <td>2.050000e+01</td>\n",
       "      <td>6.720000e+01</td>\n",
       "      <td>90.000000</td>\n",
       "      <td>80.000000</td>\n",
       "      <td>-150.000000</td>\n",
       "      <td>-80.000000</td>\n",
       "      <td>1.225000e+02</td>\n",
       "      <td>5.750000e+01</td>\n",
       "      <td>-3.000000e+01</td>\n",
       "      <td>-1.325000e+02</td>\n",
       "      <td>...</td>\n",
       "      <td>1.250000e+02</td>\n",
       "      <td>117.500000</td>\n",
       "      <td>-200.000000</td>\n",
       "      <td>-75.000000</td>\n",
       "      <td>1.425000e+02</td>\n",
       "      <td>2.018500e+02</td>\n",
       "      <td>1.452300e+02</td>\n",
       "      <td>1.445900e+02</td>\n",
       "      <td>1.367700e+02</td>\n",
       "      <td>5.284000e+01</td>\n",
       "    </tr>\n",
       "    <tr>\n",
       "      <th>50%</th>\n",
       "      <td>2.750000e+01</td>\n",
       "      <td>8.195000e+01</td>\n",
       "      <td>145.000000</td>\n",
       "      <td>145.000000</td>\n",
       "      <td>117.500000</td>\n",
       "      <td>130.000000</td>\n",
       "      <td>1.700000e+02</td>\n",
       "      <td>1.025000e+02</td>\n",
       "      <td>9.500000e+01</td>\n",
       "      <td>-5.750000e+01</td>\n",
       "      <td>...</td>\n",
       "      <td>1.800000e+02</td>\n",
       "      <td>177.500000</td>\n",
       "      <td>125.000000</td>\n",
       "      <td>143.000000</td>\n",
       "      <td>1.900000e+02</td>\n",
       "      <td>3.560700e+02</td>\n",
       "      <td>2.980900e+02</td>\n",
       "      <td>2.970500e+02</td>\n",
       "      <td>2.771800e+02</td>\n",
       "      <td>6.443000e+01</td>\n",
       "    </tr>\n",
       "    <tr>\n",
       "      <th>75%</th>\n",
       "      <td>3.850000e+01</td>\n",
       "      <td>9.880000e+01</td>\n",
       "      <td>197.500000</td>\n",
       "      <td>202.500000</td>\n",
       "      <td>192.500000</td>\n",
       "      <td>195.000000</td>\n",
       "      <td>2.177200e+02</td>\n",
       "      <td>1.400000e+02</td>\n",
       "      <td>1.425000e+02</td>\n",
       "      <td>1.175000e+02</td>\n",
       "      <td>...</td>\n",
       "      <td>2.225000e+02</td>\n",
       "      <td>230.000000</td>\n",
       "      <td>205.000000</td>\n",
       "      <td>205.000000</td>\n",
       "      <td>2.350000e+02</td>\n",
       "      <td>5.350000e+02</td>\n",
       "      <td>3.730100e+02</td>\n",
       "      <td>3.712900e+02</td>\n",
       "      <td>3.515300e+02</td>\n",
       "      <td>7.584000e+01</td>\n",
       "    </tr>\n",
       "    <tr>\n",
       "      <th>max</th>\n",
       "      <td>9.800000e+01</td>\n",
       "      <td>3.000000e+02</td>\n",
       "      <td>555.000000</td>\n",
       "      <td>577.500000</td>\n",
       "      <td>595.000000</td>\n",
       "      <td>592.390000</td>\n",
       "      <td>5.950000e+02</td>\n",
       "      <td>5.510000e+02</td>\n",
       "      <td>5.216300e+02</td>\n",
       "      <td>6.355000e+02</td>\n",
       "      <td>...</td>\n",
       "      <td>4.500000e+02</td>\n",
       "      <td>467.500000</td>\n",
       "      <td>487.500000</td>\n",
       "      <td>440.500000</td>\n",
       "      <td>4.875000e+02</td>\n",
       "      <td>1.407500e+03</td>\n",
       "      <td>7.991100e+02</td>\n",
       "      <td>7.933300e+02</td>\n",
       "      <td>7.569000e+02</td>\n",
       "      <td>1.761300e+02</td>\n",
       "    </tr>\n",
       "  </tbody>\n",
       "</table>\n",
       "<p>8 rows × 22 columns</p>\n",
       "</div>"
      ],
      "text/plain": [
       "                Age  BodyweightKg       Squat1Kg       Squat2Kg  \\\n",
       "count  1.961325e+06  2.991949e+06  896686.000000  887493.000000   \n",
       "mean   3.077018e+01  8.417019e+01     115.299809      99.409698   \n",
       "std    1.321295e+01  2.263327e+01     136.531214     160.524582   \n",
       "min    0.000000e+00  1.000000e+01    -555.000000    -580.000000   \n",
       "25%    2.050000e+01  6.720000e+01      90.000000      80.000000   \n",
       "50%    2.750000e+01  8.195000e+01     145.000000     145.000000   \n",
       "75%    3.850000e+01  9.880000e+01     197.500000     202.500000   \n",
       "max    9.800000e+01  3.000000e+02     555.000000     577.500000   \n",
       "\n",
       "            Squat3Kg     Squat4Kg  Best3SquatKg      Bench1Kg      Bench2Kg  \\\n",
       "count  863733.000000  8437.000000  2.024312e+06  1.380328e+06  1.364791e+06   \n",
       "mean       40.917137    76.708478  1.744553e+02  8.364751e+01  5.752940e+01   \n",
       "std       190.444937   179.811958  6.840240e+01  9.805345e+01  1.228357e+02   \n",
       "min      -600.500000  -550.000000 -5.080200e+02 -6.355000e+02 -6.355000e+02   \n",
       "25%      -150.000000   -80.000000  1.225000e+02  5.750000e+01 -3.000000e+01   \n",
       "50%       117.500000   130.000000  1.700000e+02  1.025000e+02  9.500000e+01   \n",
       "75%       192.500000   195.000000  2.177200e+02  1.400000e+02  1.425000e+02   \n",
       "max       595.000000   592.390000  5.950000e+02  5.510000e+02  5.216300e+02   \n",
       "\n",
       "           Bench3Kg  ...   Deadlift1Kg    Deadlift2Kg    Deadlift3Kg  \\\n",
       "count  1.322626e+06  ...  1.012203e+06  994618.000000  954242.000000   \n",
       "mean  -1.475474e+01  ...  1.599116e+02     134.095018      23.761011   \n",
       "std    1.386443e+02  ...  1.073724e+02     155.065803     210.919199   \n",
       "min   -5.750000e+02  ... -5.000000e+02    -502.500000    -587.500000   \n",
       "25%   -1.325000e+02  ...  1.250000e+02     117.500000    -200.000000   \n",
       "50%   -5.750000e+01  ...  1.800000e+02     177.500000     125.000000   \n",
       "75%    1.175000e+02  ...  2.225000e+02     230.000000     205.000000   \n",
       "max    6.355000e+02  ...  4.500000e+02     467.500000     487.500000   \n",
       "\n",
       "        Deadlift4Kg  Best3DeadliftKg       TotalKg          Dots  \\\n",
       "count  22901.000000     2.195983e+06  2.828341e+06  2.803444e+06   \n",
       "mean      80.495881     1.900779e+02  3.782585e+02  2.753803e+02   \n",
       "std      186.054084     6.203827e+01  2.055426e+02  1.291905e+02   \n",
       "min     -500.000000    -4.100000e+02  1.000000e+00  6.800000e-01   \n",
       "25%      -75.000000     1.425000e+02  2.018500e+02  1.452300e+02   \n",
       "50%      143.000000     1.900000e+02  3.560700e+02  2.980900e+02   \n",
       "75%      205.000000     2.350000e+02  5.350000e+02  3.730100e+02   \n",
       "max      440.500000     4.875000e+02  1.407500e+03  7.991100e+02   \n",
       "\n",
       "              Wilks  Glossbrenner      Goodlift  \n",
       "count  2.803444e+06  2.803444e+06  2.555446e+06  \n",
       "mean   2.742879e+02  2.584410e+02  6.452862e+01  \n",
       "std    1.286415e+02  1.222949e+02  1.628731e+01  \n",
       "min    6.700000e-01  6.400000e-01  5.000000e-01  \n",
       "25%    1.445900e+02  1.367700e+02  5.284000e+01  \n",
       "50%    2.970500e+02  2.771800e+02  6.443000e+01  \n",
       "75%    3.712900e+02  3.515300e+02  7.584000e+01  \n",
       "max    7.933300e+02  7.569000e+02  1.761300e+02  \n",
       "\n",
       "[8 rows x 22 columns]"
      ]
     },
     "execution_count": 733,
     "metadata": {},
     "output_type": "execute_result"
    }
   ],
   "source": [
    "df.describe()"
   ]
  },
  {
   "cell_type": "markdown",
   "metadata": {},
   "source": [
    "Wybór 6 parametrów które uznaliśmy za najistotniejsze dla finalnego winiku, uznaliśmy za bezsensowne korzystanie z danych dla poszczególnych podejść do ćwiczeń, zrezygnowaliśmy z wszyskich danych takich jak imie i nazywsko, nazwa zawodów z których pochodzą dane, czy data pomiarów <br>\n",
    "- Sex - płeć\n",
    "- Equipment - wyposażenie dostępne na zawodach\n",
    "- Bodyweight - waga zawodnika\n",
    "- Best3SquatKg - najlepszy wynik w przysiadzie \n",
    "- Best3DeadliftKg - najlepszy wynik w martwym ciągu\n",
    "- Age - wiek <br>\n",
    "\n",
    "Zmienną y której wartość będziemy wyliczać to Best3BenchKg czyli wynik wyciskania na ławce płaskiej\n"
   ]
  },
  {
   "cell_type": "code",
   "execution_count": 734,
   "metadata": {},
   "outputs": [],
   "source": [
    "df = df[['Sex', 'Equipment','Age', 'BodyweightKg', 'Best3SquatKg', 'Best3DeadliftKg', 'Best3BenchKg']]\n",
    "Equipment = df['Equipment']"
   ]
  },
  {
   "cell_type": "markdown",
   "metadata": {},
   "source": [
    "Sprawdzenie ilości braków danych"
   ]
  },
  {
   "cell_type": "code",
   "execution_count": 735,
   "metadata": {},
   "outputs": [
    {
     "data": {
      "text/plain": [
       "Sex                      0\n",
       "Equipment                0\n",
       "Age                1068877\n",
       "BodyweightKg         38253\n",
       "Best3SquatKg       1005890\n",
       "Best3DeadliftKg     834219\n",
       "Best3BenchKg        357071\n",
       "dtype: int64"
      ]
     },
     "execution_count": 735,
     "metadata": {},
     "output_type": "execute_result"
    }
   ],
   "source": [
    "nan_count = df.isna().sum() \n",
    "nan_count"
   ]
  },
  {
   "cell_type": "code",
   "execution_count": 736,
   "metadata": {},
   "outputs": [],
   "source": [
    "df = df.dropna()"
   ]
  },
  {
   "cell_type": "markdown",
   "metadata": {},
   "source": [
    "Użycie funkcji OrdinalEncoder z pakietu scikit-learn za pomocą której zmieniamy dane dotyczące wyposażenia uzywanego podczas podejścia do ćwiczenia oraz płci na dane liczbowe gdzie F czyli female to 0 M czyli male to 1 <br>\n",
    "Analogicznie kilka różnych cyfr zostało przypisanych do wyposażenia dostępnego podczas podejścia do ćwiczenia <br>\n",
    "1 5 0 2 4 3 odpowiadają kolejno 'Raw', 'Wraps', 'Multi-ply', 'Single-ply', 'Unlimited', 'Straps'"
   ]
  },
  {
   "cell_type": "code",
   "execution_count": 737,
   "metadata": {},
   "outputs": [],
   "source": [
    "from sklearn.preprocessing import OrdinalEncoder\n",
    "ordinal_encoder = OrdinalEncoder()\n",
    "\n",
    "\n",
    "object_cols = ['Equipment']\n",
    "df[object_cols] = ordinal_encoder.fit_transform(df[object_cols])\n",
    "\n",
    "object_cols = ['Sex']\n",
    "df[object_cols] = ordinal_encoder.fit_transform(df[object_cols])\n",
    "\n",
    "y = df[['Best3BenchKg']]\n",
    "X = df.drop('Best3BenchKg', axis=1)"
   ]
  },
  {
   "cell_type": "markdown",
   "metadata": {},
   "source": [
    "## 3 Analiza kolumn tworzących model <br>\n",
    "Przetestowanie wybranych z ramki danych za pomocą:\n",
    "- Eliminacji zmiennych quasi-stałych\n",
    "- Eliminacji zmiennych za pomocą odwrotnej macierzy korelacji "
   ]
  },
  {
   "cell_type": "code",
   "execution_count": 738,
   "metadata": {},
   "outputs": [
    {
     "data": {
      "image/png": "[encoded data removed]",
      "text/plain": [
       "<Figure size 1000x1000 with 2 Axes>"
      ]
     },
     "metadata": {},
     "output_type": "display_data"
    }
   ],
   "source": [
    "correlation_matrix = X.corr()\n",
    "\n",
    "plt.figure(figsize=(10,10))\n",
    "sns.heatmap(correlation_matrix, cmap='coolwarm', annot=True)\n",
    "plt.title('Wykres korelacji')\n",
    "plt.show()"
   ]
  },
  {
   "cell_type": "markdown",
   "metadata": {},
   "source": [
    "Jak widać z macierzy korelacji głowne czynniki mające wpływ na wynik maksymalnego ciężaru podniesionego na ławce płaskiej mają wyniki z 2 pozostałych ćwiczeń pomimo angażowania w większości całkowicie innych części ciała"
   ]
  },
  {
   "cell_type": "markdown",
   "metadata": {},
   "source": [
    "Wykorzystanie odwrotnej do macierzy korelacji w celu wskazania zmiennych które są ze sobą nadmiernie skorelowane co może wskazywać na współliniowość <br>\n",
    "__Współliniowość__ to sytuacja gdy któryś z parametrów jest mocno skorelowany z pozostałymi parametrami co może powodować pogorszenie modelu. Pomimo wysokiej korelacji pomiędzy __Best3SquatKg__ oraz __Best3DeadliftKg__ to i tak każda ze zmiennych zachowała podany próg wynoszący 10 <br> <br>\n",
    "\n",
    "Próg 10 został wybrany na podstawie danych z prezentacji oraz informacje z artykułu dr inż. Ewa Pośpiech gdzie cytując\n",
    ",,Przyjmuje się, że z zestawu zmiennych należy usunąć tę zmienną, dla której \n",
    "wartość na głównej przekątnej przekracza liczbę 10 (w przypadku kilku takich \n",
    "wartości, wybiera się największą z nich). Zredukowany zbiór zmiennych poddaje się dalszej analizie – dla macierzy współczynników korelacji (bez usuniętej \n",
    "zmiennej) ponownie wyznacza się odwrotną macierz korelacji i bada się elementy diagonalne. Kolejna największa, większa od 10, wartość wskazuje zmienną, \n",
    "którą usuwa się ze zbioru zmiennych. Procedurę kontynuuje się do momentu \n",
    "uzyskania na głównej przekątnej macierzy odwrotnej do macierzy współczynników korelacji elementów mniejszych od 10 [Dziechciarz, red., 2002].\"\n",
    "\n",
    "Kiedy wartość z macierzy odwrotnej do macierzy korelacji jest wyższa niż zmienna __treshold__ nazwa zmiennej trafia do listy zmiennych do usunięcia"
   ]
  },
  {
   "cell_type": "code",
   "execution_count": 739,
   "metadata": {},
   "outputs": [
    {
     "name": "stdout",
     "output_type": "stream",
     "text": [
      "Zmienne do usunięcia: []\n",
      "Dane po usunięciu zmiennych:\n",
      "         Sex  Equipment   Age  BodyweightKg  Best3SquatKg  Best3DeadliftKg\n",
      "0        0.0        1.0  33.0         58.30          80.0            107.5\n",
      "1        0.0        1.0  43.0         73.10         105.0            110.0\n",
      "2        1.0        1.0  15.5         67.40         100.0            105.0\n",
      "3        1.0        1.0  35.0         66.65         137.5            170.0\n",
      "4        1.0        1.0  26.5         72.45          90.0            125.0\n",
      "...      ...        ...   ...           ...           ...              ...\n",
      "3030196  0.0        2.0  32.0         95.00         260.0            227.5\n",
      "3030197  0.0        2.0  45.0        109.30         242.5            215.0\n",
      "3030198  0.0        2.0  27.5        113.22         237.5            200.0\n",
      "3030199  0.0        2.0  37.5        110.79         227.5            190.0\n",
      "3030200  0.0        2.0  39.5        124.53         220.0            145.0\n",
      "\n",
      "[1144676 rows x 6 columns]\n"
     ]
    }
   ],
   "source": [
    "# Obliczenie macierzy korelacji\n",
    "correlation_matrix = X.corr()\n",
    "\n",
    "# Obliczenie macierzy odwrotnej\n",
    "inverse_correlation_matrix = np.linalg.inv(correlation_matrix)\n",
    "\n",
    "# Usuwanie zmiennych \n",
    "threshold = 10\n",
    "variables_to_remove = []\n",
    "\n",
    "for i in range(len(inverse_correlation_matrix)):\n",
    "    if inverse_correlation_matrix[i, i] > threshold:\n",
    "        variables_to_remove.append(X.columns[i])\n",
    "\n",
    "# Usunięcie zmiennych i przypisane nowej ramki danych do ramki danych\n",
    "X_filtered = X.drop(variables_to_remove, axis=1)\n",
    "\n",
    "print(\"Zmienne do usunięcia:\", variables_to_remove)\n",
    "print(\"Dane po usunięciu zmiennych:\")\n",
    "print(X_filtered)\n",
    "\n",
    "# Ponowne przypisane do tabeli X kolumn ze mnienne X_filtered\n",
    "X = X_filtered"
   ]
  },
  {
   "cell_type": "markdown",
   "metadata": {},
   "source": [
    "Usunięcie zmiennych quasi-stałych <br>\n",
    "Wykorzystaliśmy do tego współczynnik zmienności który obliczamy z nastepującego wzoru <br>\n",
    "$$\n",
    "v=\\frac{s}{\\overline{x}}\n",
    "$$\n",
    "- s - odchylenie standardowe z próby\n",
    "- $\\overline{x}$ – średnia arytmetyczna z próby. <br>\n",
    "Ustawiliśmy go na 15% czyli 0.15"
   ]
  },
  {
   "cell_type": "code",
   "execution_count": 740,
   "metadata": {},
   "outputs": [
    {
     "name": "stdout",
     "output_type": "stream",
     "text": [
      "Zmienne quasi-stałe usunięte na podstawie współczynnika zmienności: Index([], dtype='object')\n"
     ]
    }
   ],
   "source": [
    "# Obliczenie współczynnika zmienności \n",
    "cv = X.std() / X.mean()\n",
    "\n",
    "# Ustawienie progu poniżej którego uznajemy zmienne za zmienne quasi-stałe\n",
    "cv_threshold = 0.15 \n",
    "\n",
    "# Znalezienie kolumn posiadających bardzo niski współczynnik zmienności\n",
    "low_cv = X.columns[cv < cv_threshold]\n",
    "\n",
    "# Usunięcie zmiennych quasi stałych\n",
    "X_filtered = X.drop(low_cv, axis=1)\n",
    "\n",
    "print(\"Zmienne quasi-stałe usunięte na podstawie współczynnika zmienności:\", low_cv)\n",
    "\n",
    "# Ponowne przypisane do tabeli X kolumn ze mnienne X_filtered\n",
    "X = X_filtered"
   ]
  },
  {
   "cell_type": "markdown",
   "metadata": {},
   "source": [
    "## 3 Przygotowanie modelu regresji przy pomocy XGBoost"
   ]
  },
  {
   "cell_type": "markdown",
   "metadata": {},
   "source": [
    "#### Kwestie teoretyczne \n",
    "Struktura wykorzystywana w klasyfikacji lub regresji. <br> Używane są w celu pomocy w obliczeniach gdzie ciężki do ustalenia jest logiczny algorytm do obliczania lub klasyfikowania danych. <br> Składa się ono z  warunków które mają za cel jak najdokładniejsze ustalenie zależności pomiędzy podanymi danymi, a otrzymanym wynikiem <br>\n",
    "Składa się ono z się z **korzenia** (*root*), **węzłów** (*nodes*) i **liści** (*leaves*) <br>\n",
    "<img src=\"https://images.datacamp.com/image/upload/v1677504957/decision_tree_for_heart_attack_prevention_2140bd762d.png\" alt=\"Drzewo decyzyjne\" width=\"800\"> <br>\n",
    "*Przykład prezentuje umowny schemat określający ryzyko zawału serca*\n",
    "<br> <br>\n",
    "Działanie drzew przypomina zbiór bramek logicznych gdzie przy klasyfikacji możliwa jest ona przy spełnianiu tylko jednego z warunków <br> Widać to dobrze na poniższym przykładzie. W celu oddzielenia punktów niebieskich od czerwonych stosuje się kilka warunków na osi *x<sub>1</sub> i x<sub>2</sub>* w postaci linii *p<sub>1</sub>*, *p<sub>2</sub>*, *p<sub>3</sub>*, *p<sub>4</sub>* które rozdzielają dwa typy punktów. <br> <br>\n",
    "Dzięki tym 4 liniom możliwe jest wyznaczenie obszarów dla których funkcja przyjmuje poszczególne wartości i oddziela od siebie 2 typy punktów <br>\n",
    "Drzewo to posiada **głębokość** wynoszącą 3 na co przypada korzeń na głębokości równej 0, a dla każdego rozgałęzienie wartość parametru rośnie <br>\n",
    "Według tej zasady węzeł 1 czyli **korzeń** należy do poziomu 0, węzeł 2 i 3 do poziomu 1\n",
    "\n",
    "Oczywiście przykład jest bardzo prosty i zawiera tylko dwa parametry x, ale pokazuje sposób działania drzewa poprzez tworzenie listy warunków które w zależności od spełniania poszczególnych z nich \n",
    "\n",
    "<img src=Images/Drzewo.png alt=\"Tekst zastępczy\" width=\"800\"> <br>\n",
    "*Przykład sposobu generowania kolejnych podziałów tworzących drzewo decyzyjne*\n",
    "<br>\n",
    "<br>\n",
    "\n",
    "<img src=Images/Drzewo2.png alt=\"Tekst zastępczy\" width=\"800\">> <br>\n",
    "*Utworzone drzewo decyzyjne z podglądem na sposób dzielenia zbioru*\n",
    "<br><br>\n",
    "***Kryterium wyboru testu*** <br>\n",
    "Czynnikiem który odgrywa kluczowe znaczenie przy tworzeniu drzewa decyzyjnego jest tzw. Kryterium wyboru testu które odpowiada za sposób w jaki drzewo decyzyjne podejmuje decyzje o tworzeniu kolejnych rozgałęzień. <br> Najpopularniejsze przy rozwiazywaniu problemów klasyfikacji to kryterium entropii <br>\n",
    "\n",
    "***Entropia*** \n",
    "<center>\n",
    "\n",
    "_g<sub>t</sub>(P) = I(P) - E<sub>t</sub>(P)_\n",
    "\n",
    "</center>\n",
    "\n",
    "***E<sub>t</sub>(P)*** oznacza stopień nieuporządkowania lub niepewności w zbiorze.<br>\n",
    "W drzewie decyzyjnym służy jako kryterium na podstawie którego tworzony jest podział dążąc do minimalnej niepewności. Nieuporządkowanie danych możemy interpretować jako stopień losowości danych co powoduje wyraźne trudności z wyciągnięciem istotnych informacji <br> <br>\n",
    "***I(P)*** oznacza to różnorodność, zmienność lub zróżnicowanie wartości w danym zbiorze danych. Im większa jest ta informacja, tym bardziej różnorodne lub bardziej zróżnicowane są dane, co może potencjalnie dostarczyć więcej wiedzy lub informacji przy analizie tych danych.  <br>\n",
    "Entropia stanowi miarę informacji związanej z danym zjawiskiem, które losowo przyjmuje n stanów. Również oznacza średnią ilość informacji niezbędną do zapamiętania faktu, że dane zjawisko przyjmuje jeden z dostępnych *n* stanów."
   ]
  },
  {
   "cell_type": "markdown",
   "metadata": {},
   "source": [
    "**XGBClassifier** to algorytm tworzy kolejne drzewa które wykorzystując tak zwane wzmocnienie gradientowe gdzie przy wykorzystaniu pochodnych korygowane są błędy kolejnych generowanych drzew. Każde kolejne drzewo jest tworzone, aby poprawić błędy wcześniejszych drzew, co prowadzi do postawania skorelowanych drzew. Jest to budowanie w sposób sekwencyjny mający na celu skorygowanie błędów poprzednich modeli. <br>\n",
    "XGBClassifier nie posiada wyboru kryterium do jakości oceny podziałów ponieważ domyślnie wykorzystuje **Gradient Boosting** - w tym wypadku iteracyjna forma dodawania kolejnych drzew decyzyjnych co skutkuje stopniową poprawą wyniku. Każde następne drzewo ma na celu lekką korektę względem poprzedniego drzewa. Oczywiście tak jak w przypadku pozostałych modeli, zbyt duża ilość drzew może prowadzić do przeuczenia<br>\n",
    "<br>\n",
    "\n",
    "<img src=\"Images/Porownanie_drzew.png\" alt=\"Tekst zastępczy\" width=\"800\" > <br>\n",
    "*Porównanie pojedyńczego drzewa, lasu losowego oraz wzmocnienia gradientowego*\n"
   ]
  },
  {
   "cell_type": "markdown",
   "metadata": {},
   "source": [
    "Podzial danych na dane treningowe oraz walidacyjne w celu późniejszego przygotowania modelu regresji\n",
    "- dane treningowe __X_train__ i __Y_train__ służące do nauczenia modelu wyliczania zmiennej __y__ na podstawie kolumn z tabeli __X__\n",
    "- dane walidacyjne __X_valid__ i __Y_valid__ służące do przetestowania jak dobrze model radzi sobie z wyliczaniem wartości zmiennej y"
   ]
  },
  {
   "cell_type": "code",
   "execution_count": 741,
   "metadata": {},
   "outputs": [
    {
     "data": {
      "text/html": [
       "<div>\n",
       "<style scoped>\n",
       "    .dataframe tbody tr th:only-of-type {\n",
       "        vertical-align: middle;\n",
       "    }\n",
       "\n",
       "    .dataframe tbody tr th {\n",
       "        vertical-align: top;\n",
       "    }\n",
       "\n",
       "    .dataframe thead th {\n",
       "        text-align: right;\n",
       "    }\n",
       "</style>\n",
       "<table border=\"1\" class=\"dataframe\">\n",
       "  <thead>\n",
       "    <tr style=\"text-align: right;\">\n",
       "      <th></th>\n",
       "      <th>Sex</th>\n",
       "      <th>Equipment</th>\n",
       "      <th>Age</th>\n",
       "      <th>BodyweightKg</th>\n",
       "      <th>Best3SquatKg</th>\n",
       "      <th>Best3DeadliftKg</th>\n",
       "    </tr>\n",
       "  </thead>\n",
       "  <tbody>\n",
       "    <tr>\n",
       "      <th>1635889</th>\n",
       "      <td>1.0</td>\n",
       "      <td>2.0</td>\n",
       "      <td>51.5</td>\n",
       "      <td>63.20</td>\n",
       "      <td>130.00</td>\n",
       "      <td>130.00</td>\n",
       "    </tr>\n",
       "    <tr>\n",
       "      <th>1853829</th>\n",
       "      <td>0.0</td>\n",
       "      <td>1.0</td>\n",
       "      <td>9.5</td>\n",
       "      <td>42.20</td>\n",
       "      <td>52.50</td>\n",
       "      <td>70.00</td>\n",
       "    </tr>\n",
       "    <tr>\n",
       "      <th>1634703</th>\n",
       "      <td>1.0</td>\n",
       "      <td>1.0</td>\n",
       "      <td>23.5</td>\n",
       "      <td>92.90</td>\n",
       "      <td>210.00</td>\n",
       "      <td>235.00</td>\n",
       "    </tr>\n",
       "    <tr>\n",
       "      <th>2060092</th>\n",
       "      <td>1.0</td>\n",
       "      <td>1.0</td>\n",
       "      <td>29.0</td>\n",
       "      <td>67.40</td>\n",
       "      <td>122.50</td>\n",
       "      <td>142.50</td>\n",
       "    </tr>\n",
       "    <tr>\n",
       "      <th>899307</th>\n",
       "      <td>0.0</td>\n",
       "      <td>2.0</td>\n",
       "      <td>16.5</td>\n",
       "      <td>76.66</td>\n",
       "      <td>131.54</td>\n",
       "      <td>142.88</td>\n",
       "    </tr>\n",
       "    <tr>\n",
       "      <th>...</th>\n",
       "      <td>...</td>\n",
       "      <td>...</td>\n",
       "      <td>...</td>\n",
       "      <td>...</td>\n",
       "      <td>...</td>\n",
       "      <td>...</td>\n",
       "    </tr>\n",
       "    <tr>\n",
       "      <th>309678</th>\n",
       "      <td>1.0</td>\n",
       "      <td>5.0</td>\n",
       "      <td>36.0</td>\n",
       "      <td>137.25</td>\n",
       "      <td>235.00</td>\n",
       "      <td>270.00</td>\n",
       "    </tr>\n",
       "    <tr>\n",
       "      <th>487807</th>\n",
       "      <td>0.0</td>\n",
       "      <td>1.0</td>\n",
       "      <td>17.5</td>\n",
       "      <td>100.45</td>\n",
       "      <td>125.00</td>\n",
       "      <td>150.00</td>\n",
       "    </tr>\n",
       "    <tr>\n",
       "      <th>341601</th>\n",
       "      <td>1.0</td>\n",
       "      <td>1.0</td>\n",
       "      <td>23.5</td>\n",
       "      <td>65.94</td>\n",
       "      <td>180.00</td>\n",
       "      <td>232.50</td>\n",
       "    </tr>\n",
       "    <tr>\n",
       "      <th>1766092</th>\n",
       "      <td>0.0</td>\n",
       "      <td>1.0</td>\n",
       "      <td>21.0</td>\n",
       "      <td>58.55</td>\n",
       "      <td>70.00</td>\n",
       "      <td>100.00</td>\n",
       "    </tr>\n",
       "    <tr>\n",
       "      <th>330080</th>\n",
       "      <td>1.0</td>\n",
       "      <td>1.0</td>\n",
       "      <td>25.0</td>\n",
       "      <td>104.20</td>\n",
       "      <td>245.00</td>\n",
       "      <td>275.00</td>\n",
       "    </tr>\n",
       "  </tbody>\n",
       "</table>\n",
       "<p>915740 rows × 6 columns</p>\n",
       "</div>"
      ],
      "text/plain": [
       "         Sex  Equipment   Age  BodyweightKg  Best3SquatKg  Best3DeadliftKg\n",
       "1635889  1.0        2.0  51.5         63.20        130.00           130.00\n",
       "1853829  0.0        1.0   9.5         42.20         52.50            70.00\n",
       "1634703  1.0        1.0  23.5         92.90        210.00           235.00\n",
       "2060092  1.0        1.0  29.0         67.40        122.50           142.50\n",
       "899307   0.0        2.0  16.5         76.66        131.54           142.88\n",
       "...      ...        ...   ...           ...           ...              ...\n",
       "309678   1.0        5.0  36.0        137.25        235.00           270.00\n",
       "487807   0.0        1.0  17.5        100.45        125.00           150.00\n",
       "341601   1.0        1.0  23.5         65.94        180.00           232.50\n",
       "1766092  0.0        1.0  21.0         58.55         70.00           100.00\n",
       "330080   1.0        1.0  25.0        104.20        245.00           275.00\n",
       "\n",
       "[915740 rows x 6 columns]"
      ]
     },
     "execution_count": 741,
     "metadata": {},
     "output_type": "execute_result"
    }
   ],
   "source": [
    "from sklearn.model_selection import train_test_split\n",
    "\n",
    "X_train,  X_valid, Y_train,  Y_valid = train_test_split(X, y, test_size=0.2, random_state=42)\n",
    "X_train"
   ]
  },
  {
   "cell_type": "markdown",
   "metadata": {},
   "source": [
    "Import funkcji __XGBRegressor__ z pakietu __xgboost__ oraz funkcji __mean_absolute_percentage_error__ i __mean_absolute_error__ z pakietu sklearn <br>\n",
    "- __XGBRegressor__ - funkcja odpowiadająca za regresję przy użycia drzew losowych korygowanych za pomocą wzmocnienia gradientowego\n",
    "- __mean_absolute_percentage_error__ oraz __mean_absolute_error__ - miary za pomocą których określamy jak dokładne wyniki otrzymujemy z przygotowanego modelu\n"
   ]
  },
  {
   "cell_type": "markdown",
   "metadata": {},
   "source": [
    "Z danych walidacyjnych wybieramy sampla w postaci 500 elementów na których przeprowadzane będą testy"
   ]
  },
  {
   "cell_type": "code",
   "execution_count": 742,
   "metadata": {},
   "outputs": [],
   "source": [
    "df_valid = pd.concat([Y_valid,X_valid], axis=1)\n",
    "df_valid = df_valid.sample(500)\n",
    "Y_valid = df_valid['Best3BenchKg']\n",
    "X_valid = df_valid.drop('Best3BenchKg', axis=1)\n",
    "\n",
    "from xgboost import XGBRegressor\n",
    "\n",
    "xgb_model = XGBRegressor(random_state=1, n_estimators=200, learning_rate=0.11, n_jobs=6)\n",
    "xgb_model.fit(X_train, Y_train)\n",
    "predictions = xgb_model.predict(X_valid)"
   ]
  },
  {
   "cell_type": "markdown",
   "metadata": {},
   "source": [
    "## 4 Ocena przygotowanego modelu przy pomocy metryk"
   ]
  },
  {
   "cell_type": "markdown",
   "metadata": {},
   "source": [
    "Porównanie danych uzyskanych za pomocą regresji oraz oraz oryginalnych danych ze zbioru <br>\n",
    "Prognoza przeprowadzana jest przy pomocy danych ze zbioru które nie zostały użyte do przygotowywania modelu <br>\n",
    "Obliczenie średniego błędu kwadratowego oraz średniego procentowego błędu kwadratowego w celu wstepnej weryfikacji dokładności modelu"
   ]
  },
  {
   "cell_type": "markdown",
   "metadata": {},
   "source": [
    "#### 4.1 Średni procentowy błąd kwadratowy i Średni błąd kwadratowy"
   ]
  },
  {
   "cell_type": "code",
   "execution_count": 743,
   "metadata": {},
   "outputs": [
    {
     "name": "stdout",
     "output_type": "stream",
     "text": [
      "     Best3BenchKg  Predictions\n",
      "0          137.50   112.374588\n",
      "1           55.00    75.130592\n",
      "2          155.00   156.774857\n",
      "3          156.49   157.838425\n",
      "4          217.50   191.960434\n",
      "..            ...          ...\n",
      "495         92.50    88.196335\n",
      "496        100.00   107.328468\n",
      "497         62.50    57.718525\n",
      "498         85.00    99.424629\n",
      "499         52.50    54.141880\n",
      "\n",
      "[500 rows x 2 columns] \n",
      "\n",
      "Średni procentowy błąd kwadratowy 0.1045617796775612\n",
      "Średni błąd kwadratowy 11.710158097229005\n"
     ]
    }
   ],
   "source": [
    "from sklearn.metrics import mean_absolute_percentage_error, mean_absolute_error, r2_score\n",
    "predicted_values_reset = pd.DataFrame(predictions, columns=['Predictions'])\n",
    "y_reset = Y_valid.reset_index(drop=True)\n",
    "result_df = pd.concat([y_reset, predicted_values_reset], axis=1)\n",
    "print(result_df, '\\n')\n",
    "\n",
    "print('Średni procentowy błąd kwadratowy', mean_absolute_percentage_error(Y_valid, predictions))\n",
    "print('Średni błąd kwadratowy', mean_absolute_error(Y_valid, predictions))"
   ]
  },
  {
   "cell_type": "markdown",
   "metadata": {},
   "source": [
    "#### 4.2 Współczynnik determinacji"
   ]
  },
  {
   "cell_type": "code",
   "execution_count": 744,
   "metadata": {},
   "outputs": [
    {
     "name": "stdout",
     "output_type": "stream",
     "text": [
      "Wskaźnik R-kwadrat: 0.8924562252633415\n"
     ]
    }
   ],
   "source": [
    "r2 = r2_score(Y_valid, predictions)\n",
    "print('Wskaźnik R-kwadrat:', r2)"
   ]
  },
  {
   "cell_type": "markdown",
   "metadata": {},
   "source": [
    "Interpetacja wyników wskaźnika R-kwadrat\n",
    "- 0: Oznacza to, że model nie wyjaśnia żadnej zmienności w danych i jest bezużyteczny w przewidywaniu rzeczywistych wartości.\n",
    "\n",
    "- liski 1: Wartość R-kwadrat bliska 1 wskazuje, że model doskonale dopasowuje się do danych, a jego przewidywania idealnie zgadzają się z rzeczywistymi danymi. To jest jednak rzadkie w praktyce.\n",
    "\n",
    "- między 0 a 1: Im wyższa wartość R-kwadrat, tym lepiej model dopasowuje się do danych. Na przykład, R-kwadrat równy 0,80 oznacza, że 80% zmienności w danych jest wyjaśniane przez model, a pozostałe 20% to błąd modelu.\n",
    "\n",
    "- jemny: Teoretycznie R-kwadrat może być ujemny, ale jest to rzadki przypadek. Oznacza to, że model jest tak słaby, że jego przewidywania są gorsze niż średnia wartość danych. <br>\n",
    "\n",
    "W naszym wypadku wynik wynosi pomiędzy 80-90 procent w zależności od sampla od wylosowanych 500 przykładowych danych od w związku z czym model dobrze model regresji dopasowuje się do danych"
   ]
  },
  {
   "cell_type": "markdown",
   "metadata": {},
   "source": [
    "#### 4.3 Średni błąd kwadratowy"
   ]
  },
  {
   "cell_type": "code",
   "execution_count": 745,
   "metadata": {},
   "outputs": [
    {
     "name": "stdout",
     "output_type": "stream",
     "text": [
      "Średni błąd kwadratowy (MSE): 248.08843227504326\n"
     ]
    }
   ],
   "source": [
    "from sklearn.metrics import mean_squared_error\n",
    "mse = mean_squared_error(Y_valid, predictions)\n",
    "print('Średni błąd kwadratowy (MSE):', mse)"
   ]
  },
  {
   "cell_type": "markdown",
   "metadata": {},
   "source": [
    "Średni błąd kwadratowy (Mean Squared Error - MSE) jest jedną z podstawowych miar oceny modeli regresji. MSE mierzy średnią kwadratową różnicę między przewidywanymi wartościami a rzeczywistymi wartościami.\n",
    "Jest to jedna z podstawowych metod porównywania jak różne modele radzą sobie z obliczaniem wartości z różnych zbiorów danych ponieważ ciężko jednoznacznie stwierdzić czy wynik wynoszący przykładowo 249 jak u nas jest tak naprawdę wynikiem wysokim czy niskim"
   ]
  },
  {
   "cell_type": "markdown",
   "metadata": {},
   "source": [
    "#### 4.4 Pierwiastek błędu średniokwadratowego"
   ]
  },
  {
   "cell_type": "code",
   "execution_count": 746,
   "metadata": {},
   "outputs": [
    {
     "name": "stdout",
     "output_type": "stream",
     "text": [
      "Pierwiastek błędu średniokwadratowego (RMSE): 15.750823225312487\n"
     ]
    }
   ],
   "source": [
    "from sklearn.metrics import mean_squared_error\n",
    "rmse = np.sqrt(mean_squared_error(Y_valid, predictions))\n",
    "print('Pierwiastek błędu średniokwadratowego (RMSE):', rmse)"
   ]
  },
  {
   "cell_type": "markdown",
   "metadata": {},
   "source": [
    "Głowna różnica RMSE polega na fakcie, że na waga błędów: MSE bardzo karze model w ocenie za większe błędy bardziej niż RMSE, ponieważ błędy są podnoszone do kwadratu. RMSE, jako pierwiastek kwadratowy z MSE, ma tendencję do bardziej równomiernego traktowania różnych błędów.\n",
    "- przy resztach wynoszących 10 i 10 MSE wyniesie 100 a RMSE 10 \n",
    "- analogicznie przy resztach wynoszących 20 i 1 MSE wyniesie 401 a RMSE 10.5 <br> <br>\n",
    "Analogicznie oceniając dwa modele gdzie jeden ma wyższe MSE a drugi RMSE pierwszy z reguły popełnia większe błędy, natomiast drugi pomimo przeciętnie niższych błędów może mieć okazjonalnie wyższe odchylenia błędow\n",
    "RMSE jest kolejną z miar za pomocą której możemy porownywać utworzone modele w obrębie danych \n"
   ]
  },
  {
   "cell_type": "markdown",
   "metadata": {},
   "source": [
    "#### 4.5 Współczynnik zmienności"
   ]
  },
  {
   "cell_type": "code",
   "execution_count": 747,
   "metadata": {},
   "outputs": [
    {
     "name": "stdout",
     "output_type": "stream",
     "text": [
      "Współczynnik zmienności danych obliczonych przez model: 37.93843388557434 %\n",
      "Współczynnik zmienności danych walidacyjnych: 40.21584395502366 %\n"
     ]
    }
   ],
   "source": [
    "import numpy as np\n",
    "\n",
    "def coefficient_of_variation(data):\n",
    "    mean = np.mean(data)\n",
    "    std_deviation = np.std(data)\n",
    "    \n",
    "    if mean == 0:\n",
    "        return 0\n",
    "\n",
    "    cv = (std_deviation / mean) * 100\n",
    "    return cv\n",
    "\n",
    "cv_predictions = coefficient_of_variation(predictions)\n",
    "print('Współczynnik zmienności danych obliczonych przez model:', cv_predictions, '%')\n",
    "cv_predictions = coefficient_of_variation(Y_valid)\n",
    "print('Współczynnik zmienności danych walidacyjnych:', cv_predictions, '%')"
   ]
  },
  {
   "cell_type": "markdown",
   "metadata": {},
   "source": [
    "Według danych ze strony nasz współczynnik zmenności wynoszący około 40% można uznać za przeciętną zmienność. <br>\n",
    "Współczynnik zmenności danych rzeczywistych i obliczonych przez model jest zbliżona czyli rożnica na pozimie (max 3-4 procent w skali około 40) więc może być to kolejny z dowodów na dobre odwzorowywanie danych przez model\n",
    "\n",
    "https://obliczeniastatystyczne.pl/wspolczynnik-zmiennosci/"
   ]
  },
  {
   "cell_type": "markdown",
   "metadata": {},
   "source": [
    "#### 4.6 Współczyynnik determinacji"
   ]
  },
  {
   "cell_type": "code",
   "execution_count": 748,
   "metadata": {},
   "outputs": [
    {
     "name": "stdout",
     "output_type": "stream",
     "text": [
      "Skorygowany współczynnik determinacji (Adjusted R-squared): 0.8911473760779054\n",
      "Współczyynnik determinacji: 0.8924562252633415\n"
     ]
    }
   ],
   "source": [
    "from sklearn.metrics import r2_score\n",
    "import numpy as np\n",
    "\n",
    "r2 = r2_score(Y_valid, predictions)\n",
    "\n",
    "n = len(Y_valid)\n",
    "p = 6\n",
    "\n",
    "adjusted_r2 = 1 - ((1 - r2) * (n - 1) / (n - p - 1))\n",
    "\n",
    "print('Skorygowany współczynnik determinacji (Adjusted R-squared):', adjusted_r2)\n",
    "print('Współczyynnik determinacji:', r2)"
   ]
  },
  {
   "cell_type": "markdown",
   "metadata": {},
   "source": [
    "Główna różnica względem wspólczynnika determinacji polega na tym, że skorelowany współczynnik determinacji uwzględnia złożoność modelu i liczbę zmiennych niezależnych, co czyni go bardziej odpowiednim narzędziem do oceny jakości modelu regresji w przypadku modeli o dużej ilośći zmiennych niezaleznych. <br>\n",
    "Przy okazji wartosć skorelowanego współczynnika determinacji z reguły jest minimalnie niższa niż współczynnika determinacji <br>"
   ]
  },
  {
   "cell_type": "markdown",
   "metadata": {},
   "source": [
    "#### 4.7 Współczynnik korelacji"
   ]
  },
  {
   "cell_type": "code",
   "execution_count": 749,
   "metadata": {},
   "outputs": [
    {
     "name": "stdout",
     "output_type": "stream",
     "text": [
      "W nasszym wypadku:\n",
      "Współczynnik korelacji 0.8924562252633415\n",
      "Skorelowany współczynnik korelacji 0.8911473760779054\n"
     ]
    }
   ],
   "source": [
    "print('W nasszym wypadku:')\n",
    "print('Współczynnik korelacji', r2)\n",
    "print('Skorelowany współczynnik korelacji', adjusted_r2)"
   ]
  },
  {
   "cell_type": "markdown",
   "metadata": {},
   "source": [
    "#### 4.8 Błąd oszacowania parametrów"
   ]
  },
  {
   "cell_type": "code",
   "execution_count": 750,
   "metadata": {},
   "outputs": [
    {
     "name": "stdout",
     "output_type": "stream",
     "text": [
      "Błąd oszacowania parametrów (SE): 15.8623\n"
     ]
    }
   ],
   "source": [
    "residuals = predictions - Y_valid\n",
    "n = len(residuals) \n",
    "k = 6\n",
    "\n",
    "SSE = np.sum(residuals**2)\n",
    "\n",
    "SE = np.sqrt(SSE / (n - k - 1))\n",
    "\n",
    "print(f'Błąd oszacowania parametrów (SE): {SE:.4f}')"
   ]
  },
  {
   "cell_type": "markdown",
   "metadata": {},
   "source": [
    "#### 4.9 Variance Inflation Factor"
   ]
  },
  {
   "cell_type": "markdown",
   "metadata": {},
   "source": [
    "Wzór na błąd oszacowania parametrów (SE) jest używany do obliczenia, jak dokładnie model regresji estymuje swoje parametry (współczynniki nachylenia i wyraz wolny), uwzględniając liczbę predyktorów i reszty modelu. Jest to miara dokładności oszacowań parametrów, a niższa wartość SE oznacza dokładniejsze oszacowania. <br>\n",
    "Tak samo jak Skorygowany współczynnik determinacji bierze pod uwagę ilość kolumn z których wyliczana jest zmienna Y"
   ]
  },
  {
   "cell_type": "code",
   "execution_count": 751,
   "metadata": {},
   "outputs": [
    {
     "name": "stdout",
     "output_type": "stream",
     "text": [
      "          Variable        VIF\n",
      "0              Sex   1.841298\n",
      "1        Equipment   1.024430\n",
      "2              Age   1.054248\n",
      "3     BodyweightKg   1.620551\n",
      "4     Best3SquatKg   5.223618\n",
      "5  Best3DeadliftKg   5.999228\n",
      "6        Intercept  23.728091\n"
     ]
    }
   ],
   "source": [
    "import pandas as pd\n",
    "import numpy as np\n",
    "from statsmodels.stats.outliers_influence import variance_inflation_factor\n",
    "\n",
    "data = X_valid\n",
    "\n",
    "data['Intercept'] = 1\n",
    "\n",
    "vif_data = pd.DataFrame()\n",
    "vif_data[\"Variable\"] = data.columns\n",
    "vif_data[\"VIF\"] = [variance_inflation_factor(data.values, i) for i in range(data.shape[1])]\n",
    "\n",
    "print(vif_data)"
   ]
  },
  {
   "cell_type": "markdown",
   "metadata": {},
   "source": [
    "Dane z modelu pozytywnie przeszły test vif odpowiedzialny za Variance Inflation Factor ponieważ pomiędzy zmiennymi wystepuje pewna współliniowość, ale nie przekraca ona wartości 10 więc nie model nie wymaga korekty <br>\n",
    "Z powodu na brak dodawania domyslnie przez pythona dodatkowej kolumny ze stałą jest ona dodana jako Intercept <br>\n",
    "\n",
    "https://github.com/kennethleungty/Logistic-Regression-Assumptions/issues/2"
   ]
  },
  {
   "cell_type": "markdown",
   "metadata": {},
   "source": [
    "#### 4.10 Badanie istotności poszczególnych współczynników "
   ]
  },
  {
   "cell_type": "markdown",
   "metadata": {},
   "source": [
    "Badanie istotności poszczególnych współczynników przy pomocy wbudowanej funkcji __plot_importance__ za pomocą której sprawdzimy: <br>\n",
    "\n",
    "- Weight (waga): liczba razy, kiedy dana cecha została użyta do podziału danych w wszystkich drzewach. Cecha używana częściej jest uważana za ważniejszą.\n",
    "- Gain (przyrost): średni przyrost spowodowany przez cechę w drzewach. Gain uwzględnia, jak bardzo dana cecha przyczyniła się do poprawy modelu przy każdym podziale, gdzie została użyta.\n",
    "- Cover (pokrycie): średnia liczba próbek dotkniętych przez podziały, które używają danej cechy. Oznacz to że __cover__ pokazuje ile próbek było poddanych podziałowi np podział na podstawie cechy f1 powoduje średnio udział 250 elementów w podziale"
   ]
  },
  {
   "cell_type": "code",
   "execution_count": 752,
   "metadata": {},
   "outputs": [
    {
     "data": {
      "text/plain": [
       "<Axes: title={'center': 'Feature importance'}, xlabel='F score', ylabel='Features'>"
      ]
     },
     "execution_count": 752,
     "metadata": {},
     "output_type": "execute_result"
    },
    {
     "data": {
      "image/png": "[encoded data removed]",
      "text/plain": [
       "<Figure size 640x480 with 1 Axes>"
      ]
     },
     "metadata": {},
     "output_type": "display_data"
    }
   ],
   "source": [
    "# Weight\n",
    "import xgboost as xgb\n",
    "xgb.plot_importance(xgb_model)"
   ]
  },
  {
   "cell_type": "code",
   "execution_count": 753,
   "metadata": {},
   "outputs": [
    {
     "data": {
      "text/plain": [
       "<Axes: title={'center': 'Feature importance'}, xlabel='F score', ylabel='Features'>"
      ]
     },
     "execution_count": 753,
     "metadata": {},
     "output_type": "execute_result"
    },
    {
     "data": {
      "image/png": "[encoded data removed]",
      "text/plain": [
       "<Figure size 640x480 with 1 Axes>"
      ]
     },
     "metadata": {},
     "output_type": "display_data"
    }
   ],
   "source": [
    "# Gain\n",
    "import xgboost as xgb\n",
    "xgb.plot_importance(xgb_model,importance_type='gain')"
   ]
  },
  {
   "cell_type": "code",
   "execution_count": 754,
   "metadata": {},
   "outputs": [
    {
     "data": {
      "text/plain": [
       "<Axes: title={'center': 'Feature importance'}, xlabel='F score', ylabel='Features'>"
      ]
     },
     "execution_count": 754,
     "metadata": {},
     "output_type": "execute_result"
    },
    {
     "data": {
      "image/png": "[encoded data removed]",
      "text/plain": [
       "<Figure size 640x480 with 1 Axes>"
      ]
     },
     "metadata": {},
     "output_type": "display_data"
    }
   ],
   "source": [
    "# Cover\n",
    "import xgboost as xgb\n",
    "xgb.plot_importance(xgb_model,importance_type='cover')"
   ]
  },
  {
   "cell_type": "markdown",
   "metadata": {},
   "source": [
    "Przykładowe dane pasujące do naszego kolegi <br>\n",
    "Jak widać na podstawie wpisanych danych obliczany jest jego wynik jako __prediction__"
   ]
  },
  {
   "cell_type": "code",
   "execution_count": 755,
   "metadata": {},
   "outputs": [
    {
     "name": "stdout",
     "output_type": "stream",
     "text": [
      "Prediction: [155.0307]\n"
     ]
    }
   ],
   "source": [
    "input_data2 = [[1, 2, 22, 250, 200, 110]]\n",
    "\n",
    "a1 = xgb_model.predict(input_data2)\n",
    "\n",
    "print(\"Prediction:\", a1)"
   ]
  },
  {
   "cell_type": "markdown",
   "metadata": {},
   "source": [
    "Odjęcie od przewidzianych wartości, wartości prawdziwych"
   ]
  },
  {
   "cell_type": "code",
   "execution_count": 756,
   "metadata": {},
   "outputs": [],
   "source": [
    "result_df['residuals'] = result_df['Predictions'] - result_df['Best3BenchKg']"
   ]
  },
  {
   "cell_type": "code",
   "execution_count": 757,
   "metadata": {},
   "outputs": [],
   "source": [
    "df_valid.to_csv('Prognoza')"
   ]
  },
  {
   "cell_type": "code",
   "execution_count": 758,
   "metadata": {},
   "outputs": [
    {
     "data": {
      "text/plain": [
       "500"
      ]
     },
     "execution_count": 758,
     "metadata": {},
     "output_type": "execute_result"
    }
   ],
   "source": [
    "predictions.size"
   ]
  },
  {
   "cell_type": "markdown",
   "metadata": {},
   "source": [
    "Wykres przedstawiający jakie jakie wartości przyjęły poszczególne reszty w stosunku do przewidywań"
   ]
  },
  {
   "cell_type": "code",
   "execution_count": 759,
   "metadata": {},
   "outputs": [
    {
     "data": {
      "image/png": "[encoded data removed]",
      "text/plain": [
       "<Figure size 640x480 with 1 Axes>"
      ]
     },
     "metadata": {},
     "output_type": "display_data"
    }
   ],
   "source": [
    "# Wykres reszt\n",
    "plt.scatter(predictions, residuals)\n",
    "plt.axhline(y=0, color='red', linestyle='--')\n",
    "plt.xlabel('Przewidziane wartości')\n",
    "plt.ylabel('Reszty')\n",
    "plt.show()"
   ]
  },
  {
   "cell_type": "markdown",
   "metadata": {},
   "source": [
    "Wykres porównujący rozkład reszt z teoretycznym rozkładenm nromalnym"
   ]
  },
  {
   "cell_type": "code",
   "execution_count": 760,
   "metadata": {},
   "outputs": [
    {
     "data": {
      "image/png": "[encoded data removed]",
      "text/plain": [
       "<Figure size 640x480 with 1 Axes>"
      ]
     },
     "metadata": {},
     "output_type": "display_data"
    }
   ],
   "source": [
    "# Wykres Q-Q\n",
    "stats.probplot(residuals, dist=\"norm\", plot=plt)\n",
    "plt.show()"
   ]
  },
  {
   "cell_type": "markdown",
   "metadata": {},
   "source": [
    "## 5 Testy statystyczne"
   ]
  },
  {
   "cell_type": "markdown",
   "metadata": {},
   "source": [
    "#### 5.1 Test Omegi kwadrat\n",
    "Wykonanie testu symetrii za pomocą testu Omegi kwadrat"
   ]
  },
  {
   "cell_type": "code",
   "execution_count": 761,
   "metadata": {},
   "outputs": [
    {
     "name": "stdout",
     "output_type": "stream",
     "text": [
      "Test na symetrię reszt:\n",
      "NormaltestResult(statistic=9.176384864784197, pvalue=0.010171226947511583)\n",
      "\n",
      "Interpretacja:\n",
      "Statystyka testowa: 9.176384864784197\n",
      "P-value: 0.010171226947511583\n",
      "Odrzucamy hipotezę zerową.\n",
      "Wniosek: Dane nie pochodzą z rozkładu  symetrycznego.\n"
     ]
    }
   ],
   "source": [
    "import statsmodels.api as sm\n",
    "\n",
    "symmetry_test = sm.stats.stattools.omni_normtest(residuals)\n",
    "\n",
    "alpha = 0.05\n",
    "statistic = symmetry_test[0]\n",
    "p_value = symmetry_test[1]\n",
    "\n",
    "print(\"Test na symetrię reszt:\")\n",
    "print(symmetry_test)\n",
    "print(\"\\nInterpretacja:\")\n",
    "print(f\"Statystyka testowa: {statistic}\")\n",
    "print(f\"P-value: {p_value}\")\n",
    "\n",
    "if p_value < alpha:\n",
    "    print(\"Odrzucamy hipotezę zerową.\")\n",
    "    print(\"Wniosek: Dane nie pochodzą z rozkładu  symetrycznego.\")\n",
    "else:\n",
    "    print(\"Nie ma podstaw do odrzucenia hipotezy zerowej.\")\n",
    "    print(\"Wniosek: Dane mogą pochodzić z rozkładu symetrycznego. \")"
   ]
  },
  {
   "cell_type": "markdown",
   "metadata": {},
   "source": [
    "Ponieważ p-value jest mniejsze niż próg istotności (α = 0.05), odrzucasz hipotezę zerową, co oznacza, że dane nie pochodzą z rozkładu symetrycznego. Wskazuje to na potencjalne problemy z założeniem normalności reszt w modelu. <br>\n",
    "Test Omegi kwadrat\n",
    "testujący czy wykres jest symetryczny\n",
    "W związku z brakiem symetryczności rozkładu postanwoiliśmy narysować histogram dla wykresu reszt z wartościami zaokrąglonymi do liczba całkowitch\n"
   ]
  },
  {
   "cell_type": "code",
   "execution_count": 762,
   "metadata": {},
   "outputs": [
    {
     "data": {
      "image/png": "[encoded data removed]",
      "text/plain": [
       "<Figure size 640x480 with 1 Axes>"
      ]
     },
     "metadata": {},
     "output_type": "display_data"
    }
   ],
   "source": [
    "import matplotlib.pyplot as plt\n",
    "import seaborn as sns\n",
    "\n",
    "residuals_round = round(residuals)\n",
    "\n",
    "plt.hist(residuals_round, bins=residuals_round.nunique(), edgecolor='black', density=True)\n",
    "sns.kdeplot(residuals_round, color='red')\n",
    "\n",
    "plt.title('Histogram Reszt z Linia Gęstości')\n",
    "plt.xlabel('Zaokrąglone wartości reszt')\n",
    "plt.ylabel('Gęstość')\n",
    "\n",
    "plt.show()"
   ]
  },
  {
   "cell_type": "markdown",
   "metadata": {},
   "source": [
    "#### 5.2 Test serii\n",
    "Test serii przeznaczony do  analizy reszt w modelach regrsyjnych <br>\n",
    "Test ten służy do sprawdzenia losowości sekwencji czyli losowości elementów"
   ]
  },
  {
   "cell_type": "code",
   "execution_count": 763,
   "metadata": {},
   "outputs": [
    {
     "name": "stdout",
     "output_type": "stream",
     "text": [
      "P-value dla testu serii: 0.9767949388813809\n",
      "Odrzucamy hipotezę zerową.\n",
      "Brak dowodów na nielosowość w sekwencji reszt.\n"
     ]
    }
   ],
   "source": [
    "import numpy as np\n",
    "from statsmodels.sandbox.stats.runs import runstest_1samp\n",
    "\n",
    "p_value = runstest_1samp(residuals, correction=False)[1]\n",
    "\n",
    "print(f\"P-value dla testu serii: {p_value}\")\n",
    "\n",
    "# Interpretacja wyników testu\n",
    "alpha = 0.05\n",
    "if p_value < alpha:\n",
    "    print(\"Nie ma podstaw do odrzucenia hipotezy zerowej.\")\n",
    "    print(\"Istnieje statystycznie istotna nielosowość w sekwencji reszt.\")\n",
    "else:\n",
    "    print(\"Odrzucamy hipotezę zerową.\")\n",
    "    print(\"Brak dowodów na nielosowość w sekwencji reszt.\")"
   ]
  },
  {
   "cell_type": "markdown",
   "metadata": {},
   "source": [
    "Nie odrzucamy hipotezy zerowej (p-value > 0.05), co oznacza, że nie ma dowodów na nielosowość w sekwencji reszt. To wskazuje na brak autokorelacji w resztach."
   ]
  },
  {
   "cell_type": "markdown",
   "metadata": {},
   "source": [
    "#### 5.3 Test Goldfelda-Quandta na heteroskedastyczność\n",
    "Test na heteroskedatyczność <br>\n",
    "Heteroskedastyczność w analizie regresji występuje, gdy zmienność błędów (reszt) modelu nie jest stała w całym zakresie zmiennych niezależnych. <br>\n",
    "Jest to często wynik nierównomiernego rozkładu zmiennej zależnej w zależności od wartości zmiennych niezależnych, co może prowadzić do niedokładności w estymacji i błędnych wniosków statystycznych."
   ]
  },
  {
   "cell_type": "code",
   "execution_count": 764,
   "metadata": {},
   "outputs": [
    {
     "name": "stdout",
     "output_type": "stream",
     "text": [
      "\n",
      "Test Goldfelda-Quandta na heteroskedastyczność:\n",
      "(1.0883607207515202, 0.2527241092960456, 'increasing')\n",
      "\n",
      "Interpretacja:\n",
      "Statystyka testu: 1.0883607207515202, p-wartość: 0.2527241092960456\n",
      "Nie ma podstaw do odrzucenia hipotezy zerowej.\n",
      "Wniosek: Nie ma dowodów na istnienie heteroskedastyczności w resztach.\n"
     ]
    }
   ],
   "source": [
    "from statsmodels.stats.diagnostic import het_goldfeldquandt\n",
    "\n",
    "X_valid_const = sm.add_constant(residuals_sample['Best3BenchKg'])\n",
    "\n",
    "gq_test = het_goldfeldquandt(residuals, X_valid_const)\n",
    "\n",
    "print(\"\\nTest Goldfelda-Quandta na heteroskedastyczność:\")\n",
    "print(gq_test)\n",
    "\n",
    "# Interpretacja wyników testu Goldfelda-Quandta\n",
    "gq_statistic, gq_p_value, _ = gq_test  # _ jest używane do zignorowania trzeciej wartości\n",
    "\n",
    "print(\"\\nInterpretacja:\")\n",
    "print(f\"Statystyka testu: {gq_statistic}, p-wartość: {gq_p_value}\")\n",
    "\n",
    "alpha = 0.05  # Poziom istotności\n",
    "\n",
    "if gq_p_value < alpha:\n",
    "    print(\"Odrzucamy hipotezę zerową.\")\n",
    "    print(\"Wniosek: Istnieje heteroskedastyczność w resztach.\")\n",
    "else:\n",
    "    print(\"Nie ma podstaw do odrzucenia hipotezy zerowej.\")\n",
    "    print(\"Wniosek: Nie ma dowodów na istnienie heteroskedastyczności w resztach.\")"
   ]
  },
  {
   "cell_type": "markdown",
   "metadata": {},
   "source": [
    "Nie ma podstaw do odrzucenia hipotezy zerowej (p-value > 0.05), co oznacza brak dowodów na istnienie heteroskedastyczności w resztach."
   ]
  },
  {
   "cell_type": "markdown",
   "metadata": {},
   "source": [
    "#### 5.4 Test na normalność Kołmogorowa-Smirnowa\n",
    "Test Kołmogorowa-Smirnowa jest statystycznym testem używanym do sprawdzania, czy dane pochodzą z rozkładu normalnego. Test ten porównuje empiryczny rozkład danych z teoretycznym rozkładem normalnym i generuje statystykę testową oraz p-wartość, która pozwala na ocenę, czy dane są zgodne z rozkładem normalnym."
   ]
  },
  {
   "cell_type": "code",
   "execution_count": 765,
   "metadata": {},
   "outputs": [
    {
     "name": "stdout",
     "output_type": "stream",
     "text": [
      "\n",
      "Test Kołmogorowa-Smirnowa na normalność:\n",
      "Statystyka testowa: 0.41795536797440647\n",
      "P-value: 1.2212037504357821e-79\n",
      "\n",
      "Interpretacja dla poziomu istotności 0.05:\n",
      "Odrzucamy hipotezę zerową.\n",
      "Wniosek: Istnieją istotne różnice między rozkładem reszt a rozkładem normalnym.\n"
     ]
    }
   ],
   "source": [
    "ks_statistic, p_value = stats.kstest(residuals, 'norm')\n",
    "\n",
    "print(\"\\nTest Kołmogorowa-Smirnowa na normalność:\")\n",
    "print(f\"Statystyka testowa: {ks_statistic}\")\n",
    "print(f\"P-value: {p_value}\")\n",
    "\n",
    "alpha = 0.05  \n",
    "# Interpretacja wyników testu\n",
    "print(\"\\nInterpretacja dla poziomu istotności 0.05:\")\n",
    "if p_value < alpha:\n",
    "    print(\"Odrzucamy hipotezę zerową.\")\n",
    "    print(\"Wniosek: Istnieją istotne różnice między rozkładem reszt a rozkładem normalnym.\")\n",
    "else:\n",
    "    print(\"Nie ma podstaw do odrzucenia hipotezy zerowej.\")\n",
    "    print(\"Wniosek: Brak istotnych różnic między rozkładem reszt a rozkładem normalnym.\")"
   ]
  },
  {
   "cell_type": "markdown",
   "metadata": {},
   "source": [
    " Odrzucenie hipotezy zerowej (p-value < 0.05) wskazuje na istnienie istotnych różnic między rozkładem reszt a rozkładem normalnym. To sugeruje problem z normalnością reszt."
   ]
  },
  {
   "cell_type": "markdown",
   "metadata": {},
   "source": [
    "#### 5.5 Test autokorelacji Durbin-Watsona\n",
    "Test autokorelacji Durbin-Watsona to narzędzie statystyczne używane do sprawdzania występowania autokorelacji w błędach rezydualnych modelu regresji. Test ten dostarcza informacji o tym, czy błędy są niezależne lub czy istnieją pewne wzorce korelacji między nimi, co może wpłynąć na poprawność wyników analizy regresji."
   ]
  },
  {
   "cell_type": "code",
   "execution_count": 766,
   "metadata": {},
   "outputs": [
    {
     "name": "stdout",
     "output_type": "stream",
     "text": [
      "Test Durbin-Watsona:\n",
      "Statystyka testowa: 2.0310782470708486\n",
      "Brak wyraźnych dowodów na autokorelację.\n"
     ]
    }
   ],
   "source": [
    "dw_statistic = sm.stats.durbin_watson(residuals)\n",
    "\n",
    "print(\"Test Durbin-Watsona:\")\n",
    "print(f\"Statystyka testowa: {dw_statistic}\")\n",
    "\n",
    "# Interpretacja wyników testu Durbin-Watsona\n",
    "if dw_statistic < 1.5:\n",
    "    print(\"Wskazówki na dodatnią autokorelację.\")\n",
    "elif dw_statistic > 2.5:\n",
    "    print(\"Wskazówki na ujemną autokorelację.\")\n",
    "else:\n",
    "    print(\"Brak wyraźnych dowodów na autokorelację.\")"
   ]
  },
  {
   "cell_type": "markdown",
   "metadata": {},
   "source": [
    "Wynik testu mieści się w przedziale od 1.5 do 2.5, co oznacza brak wyraźnych dowodów na autokorelację reszt."
   ]
  },
  {
   "cell_type": "markdown",
   "metadata": {},
   "source": [
    "## 6 Eksport tabeli z prognozą"
   ]
  },
  {
   "cell_type": "code",
   "execution_count": 768,
   "metadata": {},
   "outputs": [],
   "source": [
    "df_valid['Prognoza'] = predictions"
   ]
  },
  {
   "cell_type": "code",
   "execution_count": 770,
   "metadata": {},
   "outputs": [],
   "source": [
    "df_valid.to_csv('Prognoza')"
   ]
  },
  {
   "cell_type": "markdown",
   "metadata": {},
   "source": [
    "Z racji na ogromną ilośc ramki danych użytej do budowy modelu wybraliśmy sampla z przykładowymi 10k danych w postaci pliku Powerlifting.xlsx"
   ]
  },
  {
   "cell_type": "code",
   "execution_count": null,
   "metadata": {},
   "outputs": [],
   "source": [
    "sample = df.sample(10000)\n",
    "sample.to_excel('Powerlifting.xlsx')"
   ]
  },
  {
   "cell_type": "markdown",
   "metadata": {},
   "source": [
    "## 7 Zapis modelu do pliku .joblib"
   ]
  },
  {
   "cell_type": "code",
   "execution_count": 773,
   "metadata": {},
   "outputs": [],
   "source": [
    "import joblib"
   ]
  },
  {
   "cell_type": "code",
   "execution_count": 774,
   "metadata": {},
   "outputs": [
    {
     "data": {
      "text/plain": [
       "['bench_press_predictor.joblib']"
      ]
     },
     "execution_count": 774,
     "metadata": {},
     "output_type": "execute_result"
    }
   ],
   "source": [
    "joblib.dump(xgb_model, 'bench_press_predictor.joblib')"
   ]
  }
 ],
 "metadata": {
  "kernelspec": {
   "display_name": "venv",
   "language": "python",
   "name": "python3"
  },
  "language_info": {
   "codemirror_mode": {
    "name": "ipython",
    "version": 3
   },
   "file_extension": ".py",
   "mimetype": "text/x-python",
   "name": "python",
   "nbconvert_exporter": "python",
   "pygments_lexer": "ipython3",
   "version": "3.11.7"
  }
 },
 "nbformat": 4,
 "nbformat_minor": 2
}
